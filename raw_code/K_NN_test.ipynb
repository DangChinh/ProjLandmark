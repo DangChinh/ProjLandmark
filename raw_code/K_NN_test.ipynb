{
  "nbformat": 4,
  "nbformat_minor": 0,
  "metadata": {
    "colab": {
      "name": "K-NN test",
      "version": "0.3.2",
      "views": {},
      "default_view": {},
      "provenance": [],
      "collapsed_sections": []
    },
    "kernelspec": {
      "name": "python3",
      "display_name": "Python 3"
    }
  },
  "cells": [
    {
      "metadata": {
        "id": "-C5Qf0ARksRV",
        "colab_type": "text"
      },
      "cell_type": "markdown",
      "source": [
        "2 Block code đầu tiên là em test các lệnh của K-NN"
      ]
    },
    {
      "metadata": {
        "id": "Tn9DDxmcUqH0",
        "colab_type": "code",
        "colab": {
          "autoexec": {
            "startup": false,
            "wait_interval": 0
          },
          "base_uri": "https://localhost:8080/",
          "height": 85
        },
        "outputId": "ba7b30cc-4c31-4ec6-ecf8-e41cd9b4a91c",
        "executionInfo": {
          "status": "ok",
          "timestamp": 1530762940638,
          "user_tz": -420,
          "elapsed": 693,
          "user": {
            "displayName": "Long Bui",
            "photoUrl": "//lh4.googleusercontent.com/-hesOxoxnxuc/AAAAAAAAAAI/AAAAAAAAAGU/q0W0PyWRsuU/s50-c-k-no/photo.jpg",
            "userId": "111436333157392689979"
          }
        }
      },
      "cell_type": "code",
      "source": [
        "import numpy as np\n",
        "from sklearn import neighbors, datasets\n",
        "from sklearn.neighbors import NearestNeighbors\n",
        "\n",
        "iris = datasets.load_iris()\n",
        "iris_x = iris.data\n",
        "iris_y = iris.target\n",
        "\n",
        "print('number of classes: %d' %len(np.unique(iris_y)))\n",
        "print('data points: %d' %len(iris_y))\n",
        "\n",
        "#x_train = np.array(x_train)\n",
        "\n",
        "clf = NearestNeighbors(n_neighbors = 2)\n",
        "clf.fit(x_train)\n",
        "\n",
        "#hoods = clf.kneighbors(x_train[4], 3) \n",
        "#print(hoods)\n",
        "print(x_train[4])\n",
        "print(clf.kneighbors([x_train[4]]))\n",
        "\n",
        "\n",
        "#from sklearn.metrics import accuracy_score\n",
        "#print(\"Accuracy: %.2f %%\" %(100 * accuracy_score(y_test, y_pred)))"
      ],
      "execution_count": 23,
      "outputs": [
        {
          "output_type": "stream",
          "text": [
            "number of classes: 3\n",
            "data points: 150\n",
            "[5.  3.6 1.4 0.2]\n",
            "(array([[0.        , 0.14142136]]), array([[4, 0]]))\n"
          ],
          "name": "stdout"
        }
      ]
    },
    {
      "metadata": {
        "id": "Nc-Q6Na6c3NW",
        "colab_type": "code",
        "colab": {
          "autoexec": {
            "startup": false,
            "wait_interval": 0
          },
          "base_uri": "https://localhost:8080/",
          "height": 34
        },
        "outputId": "5b60e78a-325a-4c35-a601-2f4773645bb8",
        "executionInfo": {
          "status": "ok",
          "timestamp": 1530765261317,
          "user_tz": -420,
          "elapsed": 673,
          "user": {
            "displayName": "Long Bui",
            "photoUrl": "//lh4.googleusercontent.com/-hesOxoxnxuc/AAAAAAAAAAI/AAAAAAAAAGU/q0W0PyWRsuU/s50-c-k-no/photo.jpg",
            "userId": "111436333157392689979"
          }
        }
      },
      "cell_type": "code",
      "source": [
        "samples = [[0., 0., 0.], [0., .5, 0.], [1., 1., .5]]\n",
        "from sklearn.neighbors import NearestNeighbors\n",
        "neigh = NearestNeighbors(n_neighbors=3)\n",
        "neigh.fit(samples)\n",
        "#NearestNeighbors(algorithm='auto', leaf_size=30, ...)\n",
        "ans = np.array(neigh.kneighbors([[1., 1., 1.]])[1][0])\n",
        "print(ans)\n",
        "#print(neigh.kneighbors([[1., 1., 1.]])[1].shape) \n",
        "#(array([[ 0.5]]), array([[2]]...)) "
      ],
      "execution_count": 31,
      "outputs": [
        {
          "output_type": "stream",
          "text": [
            "[2 1 0]\n"
          ],
          "name": "stdout"
        }
      ]
    },
    {
      "metadata": {
        "id": "dtOOmG1Ak-jB",
        "colab_type": "text"
      },
      "cell_type": "markdown",
      "source": [
        "Dưới đây là hàm K-NN cho project, mặc định  là in ra 4 ảnh."
      ]
    },
    {
      "metadata": {
        "id": "0tD-ZTu-bES8",
        "colab_type": "code",
        "colab": {
          "autoexec": {
            "startup": false,
            "wait_interval": 0
          }
        }
      },
      "cell_type": "code",
      "source": [
        "from sklearn import neighbors, datasets\n",
        "from sklearn.model_selection import train_test_split\n",
        "\n",
        "def KNN(img, X_data):\n",
        "  #each time rebuild the KNN\n",
        "  n_neighbors = 4\n",
        "  clf = neighbors.kneighbors(n_neighbors)\n",
        "  clf.fit(X_data)\n",
        "  return np.array(neigh.kneighbors([[img]])[1][0])\n",
        "  \n",
        " "
      ],
      "execution_count": 0,
      "outputs": []
    },
    {
      "metadata": {
        "id": "7U7DcEwuk9EP",
        "colab_type": "code",
        "colab": {
          "autoexec": {
            "startup": false,
            "wait_interval": 0
          }
        }
      },
      "cell_type": "code",
      "source": [
        "from pylab import imread,subplot,imshow,show\n",
        "import matplotlib.pyplot as plt\n",
        "\n",
        "def print_photos_resemble(output):\n",
        "  cnt = 0\n",
        "  pivot = 0\n",
        "  fig, ax = plt.subplots(1, 4)\n",
        "  \n",
        "  for file in os.listdir(folder):\n",
        "    \n",
        "    if file.find('.jpg') == -1:\n",
        "      continue\n",
        "      \n",
        "    if cnt in output:\n",
        "      ax[pivot].imshow(imread(folder + file))\n",
        "      pivot += 1\n",
        "    cnt += 1\n",
        "\n",
        "  for i in range(4):\n",
        "    ax[i].grid(False)\n",
        "    ax[i].set_xticks([])\n",
        "    ax[i].set_yticks([])\n",
        "    \n",
        "  plt.show()\n",
        "    \n",
        "print_photos_resemble([5,2,7,3])"
      ],
      "execution_count": 0,
      "outputs": []
    }
  ]
}