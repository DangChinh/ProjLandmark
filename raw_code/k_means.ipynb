{
  "nbformat": 4,
  "nbformat_minor": 0,
  "metadata": {
    "colab": {
      "name": "k-means.ipynb",
      "version": "0.3.2",
      "views": {},
      "default_view": {},
      "provenance": []
    },
    "kernelspec": {
      "name": "python3",
      "display_name": "Python 3"
    },
    "accelerator": "GPU"
  },
  "cells": [
    {
      "metadata": {
        "id": "I7qRwVh2Jfit",
        "colab_type": "code",
        "colab": {
          "autoexec": {
            "startup": false,
            "wait_interval": 0
          },
          "base_uri": "https://localhost:8080/",
          "height": 104
        },
        "outputId": "344185b3-32aa-4e57-86b2-57bb64de2029",
        "executionInfo": {
          "status": "ok",
          "timestamp": 1530755773889,
          "user_tz": -420,
          "elapsed": 17302,
          "user": {
            "displayName": "Luna Tran",
            "photoUrl": "//lh6.googleusercontent.com/-Pz4GdIo7cHY/AAAAAAAAAAI/AAAAAAAAAFE/wHYX-U69z-8/s50-c-k-no/photo.jpg",
            "userId": "115979599468865271832"
          }
        }
      },
      "cell_type": "code",
      "source": [
        "# initialization - step 1\n",
        "\n",
        "!apt-get install -y -qq software-properties-common python-software-properties module-init-tools\n",
        "!add-apt-repository -y ppa:alessandro-strada/ppa 2>&1 > /dev/null\n",
        "!apt-get update -qq 2>&1 > /dev/null\n",
        "!apt-get -y install -qq google-drive-ocamlfuse fuse\n",
        "from google.colab import auth\n",
        "auth.authenticate_user()\n",
        "from oauth2client.client import GoogleCredentials\n",
        "creds = GoogleCredentials.get_application_default()\n",
        "import getpass\n",
        "!google-drive-ocamlfuse -headless -id={creds.client_id} -secret={creds.client_secret} < /dev/null 2>&1 | grep URL\n",
        "vcode = getpass.getpass()\n",
        "!echo {vcode} | google-drive-ocamlfuse -headless -id={creds.client_id} -secret={creds.client_secret}"
      ],
      "execution_count": 1,
      "outputs": [
        {
          "output_type": "stream",
          "text": [
            "Please, open the following URL in a web browser: https://accounts.google.com/o/oauth2/auth?client_id=32555940559.apps.googleusercontent.com&redirect_uri=urn%3Aietf%3Awg%3Aoauth%3A2.0%3Aoob&scope=https%3A%2F%2Fwww.googleapis.com%2Fauth%2Fdrive&response_type=code&access_type=offline&approval_prompt=force\r\n",
            "··········\n",
            "Please, open the following URL in a web browser: https://accounts.google.com/o/oauth2/auth?client_id=32555940559.apps.googleusercontent.com&redirect_uri=urn%3Aietf%3Awg%3Aoauth%3A2.0%3Aoob&scope=https%3A%2F%2Fwww.googleapis.com%2Fauth%2Fdrive&response_type=code&access_type=offline&approval_prompt=force\n",
            "Please enter the verification code: Access token retrieved correctly.\n"
          ],
          "name": "stdout"
        }
      ]
    },
    {
      "metadata": {
        "id": "3E5Wza0nJmbM",
        "colab_type": "code",
        "colab": {
          "autoexec": {
            "startup": false,
            "wait_interval": 0
          },
          "base_uri": "https://localhost:8080/",
          "height": 37
        },
        "outputId": "d32c84e2-720d-4fd4-8f3d-5a7a3aee173f",
        "executionInfo": {
          "status": "ok",
          "timestamp": 1530755780543,
          "user_tz": -420,
          "elapsed": 3741,
          "user": {
            "displayName": "Luna Tran",
            "photoUrl": "//lh6.googleusercontent.com/-Pz4GdIo7cHY/AAAAAAAAAAI/AAAAAAAAAFE/wHYX-U69z-8/s50-c-k-no/photo.jpg",
            "userId": "115979599468865271832"
          }
        }
      },
      "cell_type": "code",
      "source": [
        "# initialization - step 2\n",
        "\n",
        "!mkdir -p drive\n",
        "!google-drive-ocamlfuse drive"
      ],
      "execution_count": 2,
      "outputs": []
    },
    {
      "metadata": {
        "id": "JLTf5eYZJnj_",
        "colab_type": "code",
        "colab": {
          "autoexec": {
            "startup": false,
            "wait_interval": 0
          },
          "base_uri": "https://localhost:8080/",
          "height": 235
        },
        "outputId": "b70d9aa7-0982-49e7-e371-5c6071d68012",
        "executionInfo": {
          "status": "ok",
          "timestamp": 1530761654804,
          "user_tz": -420,
          "elapsed": 1893,
          "user": {
            "displayName": "Luna Tran",
            "photoUrl": "//lh6.googleusercontent.com/-Pz4GdIo7cHY/AAAAAAAAAAI/AAAAAAAAAFE/wHYX-U69z-8/s50-c-k-no/photo.jpg",
            "userId": "115979599468865271832"
          }
        }
      },
      "cell_type": "code",
      "source": [
        "from sklearn.cluster import KMeans\n",
        "import numpy as np\n",
        "\n",
        "# [, 128] \n",
        "\n",
        "#data = np.random.rand(1000, 128)\n",
        "#filepath = 'drive/GGLandmark/clusters.npy'\n",
        "\n",
        "def findcluster(data):\n",
        "  clusters = 20\n",
        "\n",
        "  kmeans = KMeans(\n",
        "      n_clusters = clusters,\n",
        "      init = 'k-means++',\n",
        "      n_init = 10,\n",
        "      max_iter = 200,   \n",
        "  )\n",
        "\n",
        "  kmeans.fit(data)\n",
        "  np.save(filepath, kmeans.cluster_centers_)\n",
        "  return kmeans.cluster_centers_\n",
        "  \n",
        "#clusters = findcluster(data)\n",
        "#np.load(filepath)"
      ],
      "execution_count": 22,
      "outputs": [
        {
          "output_type": "execute_result",
          "data": {
            "text/plain": [
              "array([[0.46945684, 0.51493724, 0.58507394, ..., 0.60880702, 0.54442408,\n",
              "        0.57553245],\n",
              "       [0.4425623 , 0.39054326, 0.46852217, ..., 0.40296884, 0.42114415,\n",
              "        0.56537502],\n",
              "       [0.59785428, 0.48747072, 0.58043531, ..., 0.59189266, 0.46623753,\n",
              "        0.48013383],\n",
              "       ...,\n",
              "       [0.62551959, 0.52135719, 0.31512249, ..., 0.48553705, 0.57819229,\n",
              "        0.45096453],\n",
              "       [0.63886863, 0.46767919, 0.59799726, ..., 0.64243517, 0.31986965,\n",
              "        0.4937856 ],\n",
              "       [0.33689382, 0.49187382, 0.38943136, ..., 0.50230376, 0.4668944 ,\n",
              "        0.40582131]])"
            ]
          },
          "metadata": {
            "tags": []
          },
          "execution_count": 22
        }
      ]
    },
    {
      "metadata": {
        "id": "jFxlYHdvXJqd",
        "colab_type": "code",
        "colab": {
          "autoexec": {
            "startup": false,
            "wait_interval": 0
          },
          "base_uri": "https://localhost:8080/",
          "height": 50
        },
        "outputId": "2820240c-528b-4174-a32c-b7590486016a",
        "executionInfo": {
          "status": "ok",
          "timestamp": 1530761860845,
          "user_tz": -420,
          "elapsed": 1526,
          "user": {
            "displayName": "Luna Tran",
            "photoUrl": "//lh6.googleusercontent.com/-Pz4GdIo7cHY/AAAAAAAAAAI/AAAAAAAAAFE/wHYX-U69z-8/s50-c-k-no/photo.jpg",
            "userId": "115979599468865271832"
          }
        }
      },
      "cell_type": "code",
      "source": [
        "def bagofwords(code, clusters, n_clusters):\n",
        "  clusters = np.load(filepath)\n",
        "  \n",
        "  # new kmeans with existing clusters\n",
        "  kmeans = KMeans(n_clusters = n_clusters)\n",
        "  kmeans.cluster_centers_ = clusters\n",
        "  \n",
        "  # predict the new image\n",
        "  labels = kmeans.predict(code)\n",
        "  bow = np.zeros(n_clusters)\n",
        "  for i in labels:\n",
        "    bow[i] += 1.0\n",
        "  \n",
        "  return bow\n",
        "\n",
        "code = np.random.rand(400, 128)\n",
        "print(bagofwords(code, clusters, 20))"
      ],
      "execution_count": 25,
      "outputs": [
        {
          "output_type": "stream",
          "text": [
            "[13. 21. 18. 11. 32. 18. 11. 33. 25. 16.  5.  9. 17. 26. 27. 27. 28. 20.\n",
            " 34.  9.]\n"
          ],
          "name": "stdout"
        }
      ]
    }
  ]
}