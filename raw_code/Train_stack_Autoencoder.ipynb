{
  "nbformat": 4,
  "nbformat_minor": 0,
  "metadata": {
    "colab": {
      "name": "Train stack Autoencoder.ipynb",
      "version": "0.3.2",
      "views": {},
      "default_view": {},
      "provenance": [
        {
          "file_id": "1BkJnb3lSk8ayO7EjK8SG0vl8sdS-sq5R",
          "timestamp": 1530774803317
        }
      ],
      "collapsed_sections": []
    },
    "kernelspec": {
      "display_name": "Python 3",
      "language": "python",
      "name": "python3"
    },
    "accelerator": "GPU"
  },
  "cells": [
    {
      "metadata": {
        "id": "-a8NDVnlYR5Y",
        "colab_type": "code",
        "colab": {
          "autoexec": {
            "startup": false,
            "wait_interval": 0
          },
          "base_uri": "https://localhost:8080/",
          "height": 105
        },
        "cellView": "both",
        "outputId": "d849ed13-a5fa-4a1f-ab2c-c06f4c4c22c8",
        "executionInfo": {
          "status": "ok",
          "timestamp": 1530811545388,
          "user_tz": -420,
          "elapsed": 15342,
          "user": {
            "displayName": "Long Bui",
            "photoUrl": "//lh4.googleusercontent.com/-hesOxoxnxuc/AAAAAAAAAAI/AAAAAAAAAGU/q0W0PyWRsuU/s50-c-k-no/photo.jpg",
            "userId": "111436333157392689979"
          }
        }
      },
      "cell_type": "code",
      "source": [
        "#@title\n",
        "# initialization - step 1\n",
        "\n",
        "!apt-get install -y -qq software-properties-common python-software-properties module-init-tools\n",
        "!add-apt-repository -y ppa:alessandro-strada/ppa 2>&1 > /dev/null\n",
        "!apt-get update -qq 2>&1 > /dev/null\n",
        "!apt-get -y install -qq google-drive-ocamlfuse fuse\n",
        "from google.colab import auth\n",
        "auth.authenticate_user()\n",
        "from oauth2client.client import GoogleCredentials\n",
        "creds = GoogleCredentials.get_application_default()\n",
        "import getpass\n",
        "!google-drive-ocamlfuse -headless -id={creds.client_id} -secret={creds.client_secret} < /dev/null 2>&1 | grep URL\n",
        "vcode = getpass.getpass()\n",
        "!echo {vcode} | google-drive-ocamlfuse -headless -id={creds.client_id} -secret={creds.client_secret}"
      ],
      "execution_count": 1,
      "outputs": [
        {
          "output_type": "stream",
          "text": [
            "Please, open the following URL in a web browser: https://accounts.google.com/o/oauth2/auth?client_id=32555940559.apps.googleusercontent.com&redirect_uri=urn%3Aietf%3Awg%3Aoauth%3A2.0%3Aoob&scope=https%3A%2F%2Fwww.googleapis.com%2Fauth%2Fdrive&response_type=code&access_type=offline&approval_prompt=force\r\n",
            "··········\n",
            "Please, open the following URL in a web browser: https://accounts.google.com/o/oauth2/auth?client_id=32555940559.apps.googleusercontent.com&redirect_uri=urn%3Aietf%3Awg%3Aoauth%3A2.0%3Aoob&scope=https%3A%2F%2Fwww.googleapis.com%2Fauth%2Fdrive&response_type=code&access_type=offline&approval_prompt=force\n",
            "Please enter the verification code: Access token retrieved correctly.\n"
          ],
          "name": "stdout"
        }
      ]
    },
    {
      "metadata": {
        "id": "DtgXE7LTYVgi",
        "colab_type": "code",
        "colab": {
          "autoexec": {
            "startup": false,
            "wait_interval": 0
          }
        },
        "cellView": "both"
      },
      "cell_type": "code",
      "source": [
        "#@title\n",
        "# initialization - step 2\n",
        "\n",
        "!mkdir -p drive\n",
        "!google-drive-ocamlfuse drive"
      ],
      "execution_count": 0,
      "outputs": []
    },
    {
      "metadata": {
        "id": "ce593xLbMFXm",
        "colab_type": "text"
      },
      "cell_type": "markdown",
      "source": [
        "# Bắt đầu ở đây nè ahihi\n",
        "\n",
        "Đây là bắt đầu quá trình gian khổ của việc train. Code dưới do anh Đăng Chính viết, thật tuyệt vời! "
      ]
    },
    {
      "metadata": {
        "id": "38edecX1MRRM",
        "colab_type": "text"
      },
      "cell_type": "markdown",
      "source": [
        "## Bước đầu tiên: Preprocess data\n",
        "\n",
        "Đây là code để resize ảnh và chia ảnh thành từng block 64x64"
      ]
    },
    {
      "metadata": {
        "id": "ZGnqMcV-MyJH",
        "colab_type": "code",
        "colab": {
          "autoexec": {
            "startup": false,
            "wait_interval": 0
          }
        }
      },
      "cell_type": "code",
      "source": [
        "import cv2\n",
        "import os\n",
        "import numpy as np"
      ],
      "execution_count": 0,
      "outputs": []
    },
    {
      "metadata": {
        "id": "1zQ059Z4MyJL",
        "colab_type": "code",
        "colab": {
          "autoexec": {
            "startup": false,
            "wait_interval": 0
          }
        }
      },
      "cell_type": "code",
      "source": [
        "block_width=64\n",
        "block_height=64\n",
        "\n",
        "def resize(path,block_width,block_height):\n",
        "    list_img=[]\n",
        "    for file in os.listdir(path):\n",
        "        img = cv2.imread(path + file)\n",
        "        img_height = int((img.shape[0]/block_height+1)*block_height)\n",
        "        img_width = int((img.shape[1]/block_width+1)*block_width)\n",
        "        img = cv2.resize(img, (img_width,img_height))\n",
        "        list_img.append(img)\n",
        "    return list_img\n",
        "\n",
        "# list_img = resize('data/',block_width,block_height)\n",
        "# print(list_img[4])"
      ],
      "execution_count": 0,
      "outputs": []
    },
    {
      "metadata": {
        "id": "vxC3lERWMyJO",
        "colab_type": "code",
        "colab": {
          "autoexec": {
            "startup": false,
            "wait_interval": 0
          },
          "base_uri": "https://localhost:8080/",
          "height": 340
        },
        "outputId": "9c487a15-092f-40fd-802c-810898987211",
        "executionInfo": {
          "status": "ok",
          "timestamp": 1530812581835,
          "user_tz": -420,
          "elapsed": 3067,
          "user": {
            "displayName": "Long Bui",
            "photoUrl": "//lh4.googleusercontent.com/-hesOxoxnxuc/AAAAAAAAAAI/AAAAAAAAAGU/q0W0PyWRsuU/s50-c-k-no/photo.jpg",
            "userId": "111436333157392689979"
          }
        }
      },
      "cell_type": "code",
      "source": [
        "def blockdivide(list,block_width,block_height):\n",
        "    list_block=[]\n",
        "    for img in list:\n",
        "        for i in range(int(img.shape[0]/block_height)):\n",
        "            for j in range(int(img.shape[1]/block_width)):\n",
        "                block = img[\n",
        "                    i*block_height:i*block_height + block_height,\n",
        "                    j*block_width:j*block_width + block_width]\n",
        "                list_block.append(block)\n",
        "        print(int(img.shape[0]/block_height))\n",
        "        print(int(img.shape[1]/block_height))\n",
        "    list_block = np.array(list_block)\n",
        "    return list_block\n",
        "\n",
        "list_img = resize('drive/GGLandmark/data/',block_width,block_height)\n",
        "list_block = blockdivide(list_img,block_width,block_height)\n",
        "print (list_block.shape)"
      ],
      "execution_count": 17,
      "outputs": [
        {
          "output_type": "stream",
          "text": [
            "51\n",
            "67\n",
            "5\n",
            "5\n",
            "3\n",
            "3\n",
            "19\n",
            "26\n",
            "19\n",
            "26\n",
            "19\n",
            "26\n",
            "19\n",
            "26\n",
            "11\n",
            "17\n",
            "10\n",
            "13\n",
            "(5744, 64, 64, 3)\n"
          ],
          "name": "stdout"
        }
      ]
    },
    {
      "metadata": {
        "id": "gm3RbC2FMyq0",
        "colab_type": "text"
      },
      "cell_type": "markdown",
      "source": [
        "## Bước thứ hai: Train AutoEncoder\n",
        "\n",
        "Code này cũng do anh Chính viết và lấy architecture của anh ý để train :D "
      ]
    },
    {
      "metadata": {
        "id": "sgFx4IXDMyJQ",
        "colab_type": "code",
        "colab": {
          "autoexec": {
            "startup": false,
            "wait_interval": 0
          },
          "base_uri": "https://localhost:8080/",
          "height": 34
        },
        "outputId": "35c7c5fd-4d48-416b-f4fc-5679e6d6cf98",
        "executionInfo": {
          "status": "ok",
          "timestamp": 1530811809982,
          "user_tz": -420,
          "elapsed": 8570,
          "user": {
            "displayName": "Long Bui",
            "photoUrl": "//lh4.googleusercontent.com/-hesOxoxnxuc/AAAAAAAAAAI/AAAAAAAAAGU/q0W0PyWRsuU/s50-c-k-no/photo.jpg",
            "userId": "111436333157392689979"
          }
        }
      },
      "cell_type": "code",
      "source": [
        "from keras.layers import Input,  Conv2D, MaxPooling2D, UpSampling2D, Flatten\n",
        "from keras.models import Model,load_model\n",
        "from keras.optimizers import Adam"
      ],
      "execution_count": 10,
      "outputs": [
        {
          "output_type": "stream",
          "text": [
            "Using TensorFlow backend.\n"
          ],
          "name": "stderr"
        }
      ]
    },
    {
      "metadata": {
        "id": "apMfDRiBNrm9",
        "colab_type": "code",
        "colab": {
          "autoexec": {
            "startup": false,
            "wait_interval": 0
          }
        }
      },
      "cell_type": "code",
      "source": [
        "def build(old_phase=None, pref_len = None, suf_len = None):\n",
        "  input = Input((64,64,3), name = 'input')\n",
        "  \n",
        "  model = input\n",
        "  #encoder\n",
        "  n_filters = [256,128,64]\n",
        "  for n_filter in n_filters:\n",
        "    model = Conv2D(\n",
        "      filters = n_filter,\n",
        "      kernel_size =(3,3),\n",
        "      strides =(1,1),\n",
        "      padding = \"same\",\n",
        "      activation = 'relu'\n",
        "    )(model)\n",
        "    model = MaxPooling2D(\n",
        "      pool_size = (2,2)\n",
        "    )(model)\n",
        "  \n",
        "  #code\n",
        "  encoded = Conv2D(\n",
        "    filters =4,\n",
        "    kernel_size = (3,3),\n",
        "    strides = (1,1),\n",
        "    padding = 'same',\n",
        "    activation = 'relu',\n",
        "    name = 'encoded'\n",
        "  )(model)\n",
        "  \n",
        "  model = encoded\n",
        "  \n",
        "  #decoder\n",
        "  n_filters = [64,128,256]\n",
        "  for n_filter in n_filters:\n",
        "    model = Conv2D(\n",
        "      filters = n_filter,\n",
        "      kernel_size =(3,3),\n",
        "      strides =(1,1),\n",
        "      padding = \"same\",\n",
        "      activation = 'relu'\n",
        "    )(model)\n",
        "    model = UpSampling2D(\n",
        "      size = (2,2)\n",
        "    )(model)\n",
        "  \n",
        "  #decoded image\n",
        "  decoded = Conv2D(\n",
        "    filters=3,\n",
        "    kernel_size=(3,3),\n",
        "    strides = (1,1),\n",
        "    padding='same',\n",
        "    activation='sigmoid',\n",
        "    name = 'decoded'\n",
        "  )(model)\n",
        "  \n",
        "  model = Model(input, decoded)\n",
        "  \n",
        "  #load old phase\n",
        "  if old_phase is not None:\n",
        "    old_build = load_model(old_phase)\n",
        "    weights = []\n",
        "    for layer in old_build.layers:\n",
        "      weights.append(layer.get_weights())\n",
        "      \n",
        "    n_layers = len(model.layers)\n",
        "    for i in range(pref_len):\n",
        "      model.layers[i].set_weights(weights[i])\n",
        "      model.layers[i].trainable = False\n",
        "    \n",
        "    for i in range(suf_len):\n",
        "      model.layers[-1-i].set_weights(weights[-1-i])\n",
        "      model.layers[-1-i].trainable = False\n",
        "      \n",
        "      \n",
        "  model.compile(loss = 'mean_squared_error', optimizer = 'adam')\n",
        "  print(model.summary())\n",
        "  \n",
        "  return model"
      ],
      "execution_count": 0,
      "outputs": []
    },
    {
      "metadata": {
        "id": "ppCaAqMtS3XM",
        "colab_type": "code",
        "colab": {
          "autoexec": {
            "startup": false,
            "wait_interval": 0
          },
          "base_uri": "https://localhost:8080/",
          "height": 761
        },
        "outputId": "fd8cab7a-5115-426a-800f-9496b67b5871",
        "executionInfo": {
          "status": "error",
          "timestamp": 1530812037003,
          "user_tz": -420,
          "elapsed": 2100,
          "user": {
            "displayName": "Long Bui",
            "photoUrl": "//lh4.googleusercontent.com/-hesOxoxnxuc/AAAAAAAAAAI/AAAAAAAAAGU/q0W0PyWRsuU/s50-c-k-no/photo.jpg",
            "userId": "111436333157392689979"
          }
        }
      },
      "cell_type": "code",
      "source": [
        "model = build('drive/saved.h5', pref_len =5, suf_len =4)"
      ],
      "execution_count": 15,
      "outputs": [
        {
          "output_type": "error",
          "ename": "OSError",
          "evalue": "ignored",
          "traceback": [
            "\u001b[0;31m---------------------------------------------------------------------------\u001b[0m",
            "\u001b[0;31mOSError\u001b[0m                                   Traceback (most recent call last)",
            "\u001b[0;32m<ipython-input-15-0dc6d138bdce>\u001b[0m in \u001b[0;36m<module>\u001b[0;34m()\u001b[0m\n\u001b[0;32m----> 1\u001b[0;31m \u001b[0mmodel\u001b[0m \u001b[0;34m=\u001b[0m \u001b[0mbuild\u001b[0m\u001b[0;34m(\u001b[0m\u001b[0;34m'drive/saved.h5'\u001b[0m\u001b[0;34m,\u001b[0m \u001b[0mpref_len\u001b[0m \u001b[0;34m=\u001b[0m\u001b[0;36m5\u001b[0m\u001b[0;34m,\u001b[0m \u001b[0msuf_len\u001b[0m \u001b[0;34m=\u001b[0m\u001b[0;36m4\u001b[0m\u001b[0;34m)\u001b[0m\u001b[0;34m\u001b[0m\u001b[0m\n\u001b[0m",
            "\u001b[0;32m<ipython-input-13-10ab06e5b31b>\u001b[0m in \u001b[0;36mbuild\u001b[0;34m(old_phase, pref_len, suf_len)\u001b[0m\n\u001b[1;32m     57\u001b[0m   \u001b[0;31m#load old phase\u001b[0m\u001b[0;34m\u001b[0m\u001b[0;34m\u001b[0m\u001b[0m\n\u001b[1;32m     58\u001b[0m   \u001b[0;32mif\u001b[0m \u001b[0mold_phase\u001b[0m \u001b[0;32mis\u001b[0m \u001b[0;32mnot\u001b[0m \u001b[0;32mNone\u001b[0m\u001b[0;34m:\u001b[0m\u001b[0;34m\u001b[0m\u001b[0m\n\u001b[0;32m---> 59\u001b[0;31m     \u001b[0mold_build\u001b[0m \u001b[0;34m=\u001b[0m \u001b[0mload_model\u001b[0m\u001b[0;34m(\u001b[0m\u001b[0mold_phase\u001b[0m\u001b[0;34m)\u001b[0m\u001b[0;34m\u001b[0m\u001b[0m\n\u001b[0m\u001b[1;32m     60\u001b[0m     \u001b[0mweights\u001b[0m \u001b[0;34m=\u001b[0m \u001b[0;34m[\u001b[0m\u001b[0;34m]\u001b[0m\u001b[0;34m\u001b[0m\u001b[0m\n\u001b[1;32m     61\u001b[0m     \u001b[0;32mfor\u001b[0m \u001b[0mlayer\u001b[0m \u001b[0;32min\u001b[0m \u001b[0mold_build\u001b[0m\u001b[0;34m.\u001b[0m\u001b[0mlayers\u001b[0m\u001b[0;34m:\u001b[0m\u001b[0;34m\u001b[0m\u001b[0m\n",
            "\u001b[0;32m/usr/local/lib/python3.6/dist-packages/keras/models.py\u001b[0m in \u001b[0;36mload_model\u001b[0;34m(filepath, custom_objects, compile)\u001b[0m\n\u001b[1;32m    258\u001b[0m     \u001b[0mopened_new_file\u001b[0m \u001b[0;34m=\u001b[0m \u001b[0;32mnot\u001b[0m \u001b[0misinstance\u001b[0m\u001b[0;34m(\u001b[0m\u001b[0mfilepath\u001b[0m\u001b[0;34m,\u001b[0m \u001b[0mh5py\u001b[0m\u001b[0;34m.\u001b[0m\u001b[0mFile\u001b[0m\u001b[0;34m)\u001b[0m\u001b[0;34m\u001b[0m\u001b[0m\n\u001b[1;32m    259\u001b[0m     \u001b[0;32mif\u001b[0m \u001b[0mopened_new_file\u001b[0m\u001b[0;34m:\u001b[0m\u001b[0;34m\u001b[0m\u001b[0m\n\u001b[0;32m--> 260\u001b[0;31m         \u001b[0mf\u001b[0m \u001b[0;34m=\u001b[0m \u001b[0mh5py\u001b[0m\u001b[0;34m.\u001b[0m\u001b[0mFile\u001b[0m\u001b[0;34m(\u001b[0m\u001b[0mfilepath\u001b[0m\u001b[0;34m,\u001b[0m \u001b[0mmode\u001b[0m\u001b[0;34m=\u001b[0m\u001b[0;34m'r'\u001b[0m\u001b[0;34m)\u001b[0m\u001b[0;34m\u001b[0m\u001b[0m\n\u001b[0m\u001b[1;32m    261\u001b[0m     \u001b[0;32melse\u001b[0m\u001b[0;34m:\u001b[0m\u001b[0;34m\u001b[0m\u001b[0m\n\u001b[1;32m    262\u001b[0m         \u001b[0mf\u001b[0m \u001b[0;34m=\u001b[0m \u001b[0mfilepath\u001b[0m\u001b[0;34m\u001b[0m\u001b[0m\n",
            "\u001b[0;32m/usr/local/lib/python3.6/dist-packages/h5py/_hl/files.py\u001b[0m in \u001b[0;36m__init__\u001b[0;34m(self, name, mode, driver, libver, userblock_size, swmr, **kwds)\u001b[0m\n\u001b[1;32m    310\u001b[0m             \u001b[0;32mwith\u001b[0m \u001b[0mphil\u001b[0m\u001b[0;34m:\u001b[0m\u001b[0;34m\u001b[0m\u001b[0m\n\u001b[1;32m    311\u001b[0m                 \u001b[0mfapl\u001b[0m \u001b[0;34m=\u001b[0m \u001b[0mmake_fapl\u001b[0m\u001b[0;34m(\u001b[0m\u001b[0mdriver\u001b[0m\u001b[0;34m,\u001b[0m \u001b[0mlibver\u001b[0m\u001b[0;34m,\u001b[0m \u001b[0;34m**\u001b[0m\u001b[0mkwds\u001b[0m\u001b[0;34m)\u001b[0m\u001b[0;34m\u001b[0m\u001b[0m\n\u001b[0;32m--> 312\u001b[0;31m                 \u001b[0mfid\u001b[0m \u001b[0;34m=\u001b[0m \u001b[0mmake_fid\u001b[0m\u001b[0;34m(\u001b[0m\u001b[0mname\u001b[0m\u001b[0;34m,\u001b[0m \u001b[0mmode\u001b[0m\u001b[0;34m,\u001b[0m \u001b[0muserblock_size\u001b[0m\u001b[0;34m,\u001b[0m \u001b[0mfapl\u001b[0m\u001b[0;34m,\u001b[0m \u001b[0mswmr\u001b[0m\u001b[0;34m=\u001b[0m\u001b[0mswmr\u001b[0m\u001b[0;34m)\u001b[0m\u001b[0;34m\u001b[0m\u001b[0m\n\u001b[0m\u001b[1;32m    313\u001b[0m \u001b[0;34m\u001b[0m\u001b[0m\n\u001b[1;32m    314\u001b[0m                 \u001b[0;32mif\u001b[0m \u001b[0mswmr_support\u001b[0m\u001b[0;34m:\u001b[0m\u001b[0;34m\u001b[0m\u001b[0m\n",
            "\u001b[0;32m/usr/local/lib/python3.6/dist-packages/h5py/_hl/files.py\u001b[0m in \u001b[0;36mmake_fid\u001b[0;34m(name, mode, userblock_size, fapl, fcpl, swmr)\u001b[0m\n\u001b[1;32m    140\u001b[0m         \u001b[0;32mif\u001b[0m \u001b[0mswmr\u001b[0m \u001b[0;32mand\u001b[0m \u001b[0mswmr_support\u001b[0m\u001b[0;34m:\u001b[0m\u001b[0;34m\u001b[0m\u001b[0m\n\u001b[1;32m    141\u001b[0m             \u001b[0mflags\u001b[0m \u001b[0;34m|=\u001b[0m \u001b[0mh5f\u001b[0m\u001b[0;34m.\u001b[0m\u001b[0mACC_SWMR_READ\u001b[0m\u001b[0;34m\u001b[0m\u001b[0m\n\u001b[0;32m--> 142\u001b[0;31m         \u001b[0mfid\u001b[0m \u001b[0;34m=\u001b[0m \u001b[0mh5f\u001b[0m\u001b[0;34m.\u001b[0m\u001b[0mopen\u001b[0m\u001b[0;34m(\u001b[0m\u001b[0mname\u001b[0m\u001b[0;34m,\u001b[0m \u001b[0mflags\u001b[0m\u001b[0;34m,\u001b[0m \u001b[0mfapl\u001b[0m\u001b[0;34m=\u001b[0m\u001b[0mfapl\u001b[0m\u001b[0;34m)\u001b[0m\u001b[0;34m\u001b[0m\u001b[0m\n\u001b[0m\u001b[1;32m    143\u001b[0m     \u001b[0;32melif\u001b[0m \u001b[0mmode\u001b[0m \u001b[0;34m==\u001b[0m \u001b[0;34m'r+'\u001b[0m\u001b[0;34m:\u001b[0m\u001b[0;34m\u001b[0m\u001b[0m\n\u001b[1;32m    144\u001b[0m         \u001b[0mfid\u001b[0m \u001b[0;34m=\u001b[0m \u001b[0mh5f\u001b[0m\u001b[0;34m.\u001b[0m\u001b[0mopen\u001b[0m\u001b[0;34m(\u001b[0m\u001b[0mname\u001b[0m\u001b[0;34m,\u001b[0m \u001b[0mh5f\u001b[0m\u001b[0;34m.\u001b[0m\u001b[0mACC_RDWR\u001b[0m\u001b[0;34m,\u001b[0m \u001b[0mfapl\u001b[0m\u001b[0;34m=\u001b[0m\u001b[0mfapl\u001b[0m\u001b[0;34m)\u001b[0m\u001b[0;34m\u001b[0m\u001b[0m\n",
            "\u001b[0;32mh5py/_objects.pyx\u001b[0m in \u001b[0;36mh5py._objects.with_phil.wrapper\u001b[0;34m()\u001b[0m\n",
            "\u001b[0;32mh5py/_objects.pyx\u001b[0m in \u001b[0;36mh5py._objects.with_phil.wrapper\u001b[0;34m()\u001b[0m\n",
            "\u001b[0;32mh5py/h5f.pyx\u001b[0m in \u001b[0;36mh5py.h5f.open\u001b[0;34m()\u001b[0m\n",
            "\u001b[0;31mOSError\u001b[0m: Unable to open file (unable to open file: name = 'drive/saved.h5', errno = 2, error message = 'No such file or directory', flags = 0, o_flags = 0)"
          ]
        }
      ]
    },
    {
      "metadata": {
        "id": "IIswxKapM_k1",
        "colab_type": "text"
      },
      "cell_type": "markdown",
      "source": [
        "Sau khi train xong mỗi phase thì phải lưu lại, đây chính là nó!"
      ]
    },
    {
      "metadata": {
        "id": "ZOZwdkONWOUo",
        "colab_type": "code",
        "colab": {
          "autoexec": {
            "startup": false,
            "wait_interval": 0
          },
          "base_uri": "https://localhost:8080/",
          "height": 3430
        },
        "outputId": "a58b6b81-2a6b-420f-dda5-ade72d7ed894",
        "executionInfo": {
          "status": "ok",
          "timestamp": 1530804464088,
          "user_tz": -420,
          "elapsed": 1111788,
          "user": {
            "displayName": "Linh Tran",
            "photoUrl": "https://lh3.googleusercontent.com/a/default-user=s128",
            "userId": "112132608669804924061"
          }
        }
      },
      "cell_type": "code",
      "source": [
        "from keras.callbacks import ModelCheckpoint\n",
        "\n",
        "model = load_model('drive/saved.h5')\n",
        "\n",
        "filepath = 'drive/Save_data/saved.h5'\n",
        "save_model = ModelCheckpoint(filepath, monitor='val_loss', verbose=0, save_best_only=False, save_weights_only=False, mode='auto', period=1)\n",
        "\n",
        "model.fit(\n",
        "    x = list_block/255.0, \n",
        "    y = list_block/255.0, \n",
        "    batch_size=64, \n",
        "    epochs=100,\n",
        "    validation_split=0.2,\n",
        "    callbacks=[save_model]\n",
        ")"
      ],
      "execution_count": 31,
      "outputs": [
        {
          "output_type": "stream",
          "text": [
            "Train on 4595 samples, validate on 1149 samples\n",
            "Epoch 1/100\n",
            "4595/4595 [==============================] - 12s 3ms/step - loss: 6.3534e-04 - val_loss: 0.0030\n",
            "Epoch 2/100\n",
            "4595/4595 [==============================] - 10s 2ms/step - loss: 6.2388e-04 - val_loss: 0.0029\n",
            "Epoch 3/100\n",
            "4595/4595 [==============================] - 10s 2ms/step - loss: 6.3727e-04 - val_loss: 0.0030\n",
            "Epoch 4/100\n",
            "4595/4595 [==============================] - 10s 2ms/step - loss: 6.1791e-04 - val_loss: 0.0030\n",
            "Epoch 5/100\n",
            "1728/4595 [==========>...................] - ETA: 5s - loss: 6.6993e-04"
          ],
          "name": "stdout"
        },
        {
          "output_type": "stream",
          "text": [
            "4595/4595 [==============================] - 10s 2ms/step - loss: 6.3167e-04 - val_loss: 0.0029\n",
            "Epoch 6/100\n",
            "4595/4595 [==============================] - 10s 2ms/step - loss: 6.1736e-04 - val_loss: 0.0030\n",
            "Epoch 7/100\n",
            "4595/4595 [==============================] - 10s 2ms/step - loss: 6.1853e-04 - val_loss: 0.0029\n",
            "Epoch 8/100\n",
            "4595/4595 [==============================] - 10s 2ms/step - loss: 6.2931e-04 - val_loss: 0.0029\n",
            "Epoch 9/100\n",
            "4352/4595 [===========================>..] - ETA: 0s - loss: 6.1500e-04"
          ],
          "name": "stdout"
        },
        {
          "output_type": "stream",
          "text": [
            "4595/4595 [==============================] - 10s 2ms/step - loss: 6.1232e-04 - val_loss: 0.0029\n",
            "Epoch 10/100\n",
            "4595/4595 [==============================] - 10s 2ms/step - loss: 7.1455e-04 - val_loss: 0.0030\n",
            "Epoch 11/100\n",
            "4595/4595 [==============================] - 10s 2ms/step - loss: 6.2456e-04 - val_loss: 0.0029\n",
            "Epoch 12/100\n",
            "4595/4595 [==============================] - 10s 2ms/step - loss: 6.1120e-04 - val_loss: 0.0029\n",
            "Epoch 13/100\n",
            "4595/4595 [==============================] - 10s 2ms/step - loss: 6.0626e-04 - val_loss: 0.0029\n"
          ],
          "name": "stdout"
        },
        {
          "output_type": "stream",
          "text": [
            "Epoch 14/100\n",
            "4595/4595 [==============================] - 10s 2ms/step - loss: 6.0927e-04 - val_loss: 0.0029\n",
            "Epoch 15/100\n",
            "4595/4595 [==============================] - 10s 2ms/step - loss: 6.2004e-04 - val_loss: 0.0029\n",
            "Epoch 16/100\n",
            "4595/4595 [==============================] - 10s 2ms/step - loss: 6.1945e-04 - val_loss: 0.0029\n",
            "Epoch 17/100\n",
            "4595/4595 [==============================] - 10s 2ms/step - loss: 6.1138e-04 - val_loss: 0.0029\n",
            "Epoch 18/100\n",
            "3520/4595 [=====================>........] - ETA: 1s - loss: 6.0703e-04"
          ],
          "name": "stdout"
        },
        {
          "output_type": "stream",
          "text": [
            "4595/4595 [==============================] - 10s 2ms/step - loss: 6.0425e-04 - val_loss: 0.0030\n",
            "Epoch 19/100\n",
            "4595/4595 [==============================] - 10s 2ms/step - loss: 6.1531e-04 - val_loss: 0.0030\n",
            "Epoch 20/100\n",
            "4595/4595 [==============================] - 10s 2ms/step - loss: 6.0978e-04 - val_loss: 0.0029\n",
            "Epoch 21/100\n",
            "4595/4595 [==============================] - 10s 2ms/step - loss: 6.0266e-04 - val_loss: 0.0029\n",
            "Epoch 22/100\n",
            "4544/4595 [============================>.] - ETA: 0s - loss: 6.1238e-04"
          ],
          "name": "stdout"
        },
        {
          "output_type": "stream",
          "text": [
            "4595/4595 [==============================] - 10s 2ms/step - loss: 6.1149e-04 - val_loss: 0.0029\n",
            "Epoch 23/100\n",
            "4595/4595 [==============================] - 10s 2ms/step - loss: 6.0251e-04 - val_loss: 0.0029\n",
            "Epoch 24/100\n",
            "4595/4595 [==============================] - 10s 2ms/step - loss: 5.9809e-04 - val_loss: 0.0029\n",
            "Epoch 25/100\n",
            "4595/4595 [==============================] - 10s 2ms/step - loss: 5.9604e-04 - val_loss: 0.0030\n",
            "Epoch 26/100\n",
            "4595/4595 [==============================] - 10s 2ms/step - loss: 6.1484e-04 - val_loss: 0.0029\n",
            "Epoch 27/100\n",
            "  64/4595 [..............................] - ETA: 8s - loss: 3.9873e-04"
          ],
          "name": "stdout"
        },
        {
          "output_type": "stream",
          "text": [
            "4595/4595 [==============================] - 10s 2ms/step - loss: 5.9824e-04 - val_loss: 0.0029\n",
            "Epoch 28/100\n",
            "4595/4595 [==============================] - 10s 2ms/step - loss: 6.1313e-04 - val_loss: 0.0030\n",
            "Epoch 29/100\n",
            "4595/4595 [==============================] - 10s 2ms/step - loss: 5.9251e-04 - val_loss: 0.0029\n",
            "Epoch 30/100\n",
            "4595/4595 [==============================] - 10s 2ms/step - loss: 5.9410e-04 - val_loss: 0.0029\n",
            "Epoch 31/100\n",
            "4032/4595 [=========================>....] - ETA: 1s - loss: 6.1334e-04"
          ],
          "name": "stdout"
        },
        {
          "output_type": "stream",
          "text": [
            "4595/4595 [==============================] - 10s 2ms/step - loss: 6.1075e-04 - val_loss: 0.0029\n",
            "Epoch 32/100\n",
            "4595/4595 [==============================] - 10s 2ms/step - loss: 6.0585e-04 - val_loss: 0.0029\n",
            "Epoch 33/100\n",
            "4595/4595 [==============================] - 10s 2ms/step - loss: 6.0650e-04 - val_loss: 0.0029\n",
            "Epoch 34/100\n",
            "4595/4595 [==============================] - 10s 2ms/step - loss: 5.8364e-04 - val_loss: 0.0029\n",
            "Epoch 35/100\n",
            "4595/4595 [==============================] - 10s 2ms/step - loss: 5.8493e-04 - val_loss: 0.0029\n"
          ],
          "name": "stdout"
        },
        {
          "output_type": "stream",
          "text": [
            "Epoch 36/100\n",
            "4595/4595 [==============================] - 10s 2ms/step - loss: 5.9451e-04 - val_loss: 0.0029\n",
            "Epoch 37/100\n",
            "4595/4595 [==============================] - 10s 2ms/step - loss: 6.0301e-04 - val_loss: 0.0030\n",
            "Epoch 38/100\n",
            "4595/4595 [==============================] - 10s 2ms/step - loss: 6.1203e-04 - val_loss: 0.0029\n",
            "Epoch 39/100\n",
            "4595/4595 [==============================] - 10s 2ms/step - loss: 5.8242e-04 - val_loss: 0.0029\n",
            "Epoch 40/100\n",
            "3520/4595 [=====================>........] - ETA: 1s - loss: 6.0949e-04"
          ],
          "name": "stdout"
        },
        {
          "output_type": "stream",
          "text": [
            "4595/4595 [==============================] - 10s 2ms/step - loss: 5.9967e-04 - val_loss: 0.0029\n",
            "Epoch 41/100\n",
            "4595/4595 [==============================] - 10s 2ms/step - loss: 5.7196e-04 - val_loss: 0.0028\n",
            "Epoch 42/100\n",
            "4595/4595 [==============================] - 10s 2ms/step - loss: 5.9578e-04 - val_loss: 0.0028\n",
            "Epoch 43/100\n",
            "4595/4595 [==============================] - 10s 2ms/step - loss: 5.7400e-04 - val_loss: 0.0028\n",
            "Epoch 44/100\n",
            "4544/4595 [============================>.] - ETA: 0s - loss: 5.9130e-04"
          ],
          "name": "stdout"
        },
        {
          "output_type": "stream",
          "text": [
            "4595/4595 [==============================] - 10s 2ms/step - loss: 5.8854e-04 - val_loss: 0.0029\n",
            "Epoch 45/100\n",
            "4595/4595 [==============================] - 10s 2ms/step - loss: 5.8008e-04 - val_loss: 0.0029\n",
            "Epoch 46/100\n",
            "4595/4595 [==============================] - 10s 2ms/step - loss: 5.8182e-04 - val_loss: 0.0028\n",
            "Epoch 47/100\n",
            "4595/4595 [==============================] - 10s 2ms/step - loss: 5.5868e-04 - val_loss: 0.0028\n",
            "Epoch 48/100\n",
            "4595/4595 [==============================] - 10s 2ms/step - loss: 5.5418e-04 - val_loss: 0.0027\n",
            "Epoch 49/100\n",
            "  64/4595 [..............................] - ETA: 8s - loss: 5.8807e-04"
          ],
          "name": "stdout"
        },
        {
          "output_type": "stream",
          "text": [
            "4595/4595 [==============================] - 10s 2ms/step - loss: 5.5065e-04 - val_loss: 0.0027\n",
            "Epoch 50/100\n",
            "4595/4595 [==============================] - 10s 2ms/step - loss: 5.4742e-04 - val_loss: 0.0027\n",
            "Epoch 51/100\n",
            "4595/4595 [==============================] - 10s 2ms/step - loss: 5.2548e-04 - val_loss: 0.0027\n",
            "Epoch 52/100\n",
            "4595/4595 [==============================] - 10s 2ms/step - loss: 5.3346e-04 - val_loss: 0.0028\n",
            "Epoch 53/100\n",
            "4032/4595 [=========================>....] - ETA: 1s - loss: 5.6459e-04"
          ],
          "name": "stdout"
        },
        {
          "output_type": "stream",
          "text": [
            "4595/4595 [==============================] - 10s 2ms/step - loss: 5.8204e-04 - val_loss: 0.0028\n",
            "Epoch 54/100\n",
            "4595/4595 [==============================] - 10s 2ms/step - loss: 5.3068e-04 - val_loss: 0.0027\n",
            "Epoch 55/100\n",
            "4595/4595 [==============================] - 10s 2ms/step - loss: 5.1948e-04 - val_loss: 0.0026\n",
            "Epoch 56/100\n",
            "4595/4595 [==============================] - 10s 2ms/step - loss: 5.0717e-04 - val_loss: 0.0026\n",
            "Epoch 57/100\n",
            "4595/4595 [==============================] - 10s 2ms/step - loss: 5.0888e-04 - val_loss: 0.0026\n"
          ],
          "name": "stdout"
        },
        {
          "output_type": "stream",
          "text": [
            "Epoch 58/100\n",
            "4595/4595 [==============================] - 10s 2ms/step - loss: 4.9738e-04 - val_loss: 0.0026\n",
            "Epoch 59/100\n",
            "4595/4595 [==============================] - 10s 2ms/step - loss: 4.8617e-04 - val_loss: 0.0026\n",
            "Epoch 60/100\n",
            "4595/4595 [==============================] - 10s 2ms/step - loss: 4.9489e-04 - val_loss: 0.0025\n",
            "Epoch 61/100\n",
            "4595/4595 [==============================] - 10s 2ms/step - loss: 4.9984e-04 - val_loss: 0.0025\n",
            "Epoch 62/100\n",
            "3520/4595 [=====================>........] - ETA: 1s - loss: 4.9508e-04"
          ],
          "name": "stdout"
        },
        {
          "output_type": "stream",
          "text": [
            "4595/4595 [==============================] - 10s 2ms/step - loss: 4.7549e-04 - val_loss: 0.0025\n",
            "Epoch 63/100\n",
            "4595/4595 [==============================] - 10s 2ms/step - loss: 5.1002e-04 - val_loss: 0.0025\n",
            "Epoch 64/100\n",
            "4595/4595 [==============================] - 10s 2ms/step - loss: 4.7621e-04 - val_loss: 0.0025\n",
            "Epoch 65/100\n",
            "4595/4595 [==============================] - 10s 2ms/step - loss: 4.8761e-04 - val_loss: 0.0026\n",
            "Epoch 66/100\n",
            "4544/4595 [============================>.] - ETA: 0s - loss: 4.8390e-04"
          ],
          "name": "stdout"
        },
        {
          "output_type": "stream",
          "text": [
            "4595/4595 [==============================] - 10s 2ms/step - loss: 4.8251e-04 - val_loss: 0.0025\n",
            "Epoch 67/100\n",
            "4595/4595 [==============================] - 10s 2ms/step - loss: 4.7390e-04 - val_loss: 0.0025\n",
            "Epoch 68/100\n",
            "4595/4595 [==============================] - 10s 2ms/step - loss: 4.6963e-04 - val_loss: 0.0025\n",
            "Epoch 69/100\n",
            "4595/4595 [==============================] - 10s 2ms/step - loss: 4.6114e-04 - val_loss: 0.0025\n",
            "Epoch 70/100\n",
            "4595/4595 [==============================] - 10s 2ms/step - loss: 4.7468e-04 - val_loss: 0.0025\n",
            "Epoch 71/100\n",
            "  64/4595 [..............................] - ETA: 7s - loss: 3.8773e-04"
          ],
          "name": "stdout"
        },
        {
          "output_type": "stream",
          "text": [
            "4595/4595 [==============================] - 10s 2ms/step - loss: 4.6039e-04 - val_loss: 0.0025\n",
            "Epoch 72/100\n",
            "4595/4595 [==============================] - 10s 2ms/step - loss: 4.7174e-04 - val_loss: 0.0025\n",
            "Epoch 73/100\n",
            "4595/4595 [==============================] - 10s 2ms/step - loss: 4.6050e-04 - val_loss: 0.0025\n",
            "Epoch 74/100\n",
            "4595/4595 [==============================] - 10s 2ms/step - loss: 4.5866e-04 - val_loss: 0.0025\n",
            "Epoch 75/100\n",
            "4032/4595 [=========================>....] - ETA: 1s - loss: 4.5891e-04"
          ],
          "name": "stdout"
        },
        {
          "output_type": "stream",
          "text": [
            "4595/4595 [==============================] - 10s 2ms/step - loss: 4.5812e-04 - val_loss: 0.0025\n",
            "Epoch 76/100\n",
            "4595/4595 [==============================] - 10s 2ms/step - loss: 4.7929e-04 - val_loss: 0.0025\n",
            "Epoch 77/100\n",
            "4595/4595 [==============================] - 10s 2ms/step - loss: 4.6720e-04 - val_loss: 0.0025\n",
            "Epoch 78/100\n",
            "4595/4595 [==============================] - 10s 2ms/step - loss: 4.5626e-04 - val_loss: 0.0024\n",
            "Epoch 79/100\n",
            "4595/4595 [==============================] - 10s 2ms/step - loss: 4.4764e-04 - val_loss: 0.0024\n"
          ],
          "name": "stdout"
        },
        {
          "output_type": "stream",
          "text": [
            "Epoch 80/100\n",
            "4595/4595 [==============================] - 10s 2ms/step - loss: 4.9327e-04 - val_loss: 0.0025\n",
            "Epoch 81/100\n",
            "4595/4595 [==============================] - 10s 2ms/step - loss: 4.6359e-04 - val_loss: 0.0024\n",
            "Epoch 82/100\n",
            "4595/4595 [==============================] - 10s 2ms/step - loss: 4.4301e-04 - val_loss: 0.0025\n",
            "Epoch 83/100\n",
            "4595/4595 [==============================] - 10s 2ms/step - loss: 4.5197e-04 - val_loss: 0.0024\n",
            "Epoch 84/100\n",
            "3520/4595 [=====================>........] - ETA: 1s - loss: 4.5743e-04"
          ],
          "name": "stdout"
        },
        {
          "output_type": "stream",
          "text": [
            "4595/4595 [==============================] - 10s 2ms/step - loss: 4.5106e-04 - val_loss: 0.0024\n",
            "Epoch 85/100\n",
            "4595/4595 [==============================] - 10s 2ms/step - loss: 4.5382e-04 - val_loss: 0.0026\n",
            "Epoch 86/100\n",
            "4595/4595 [==============================] - 10s 2ms/step - loss: 4.6428e-04 - val_loss: 0.0024\n",
            "Epoch 87/100\n",
            "4595/4595 [==============================] - 10s 2ms/step - loss: 4.3627e-04 - val_loss: 0.0024\n",
            "Epoch 88/100\n",
            "4544/4595 [============================>.] - ETA: 0s - loss: 4.4542e-04"
          ],
          "name": "stdout"
        },
        {
          "output_type": "stream",
          "text": [
            "4595/4595 [==============================] - 10s 2ms/step - loss: 4.4635e-04 - val_loss: 0.0024\n",
            "Epoch 89/100\n",
            "4595/4595 [==============================] - 10s 2ms/step - loss: 4.4975e-04 - val_loss: 0.0024\n",
            "Epoch 90/100\n",
            "4595/4595 [==============================] - 10s 2ms/step - loss: 4.4437e-04 - val_loss: 0.0024\n",
            "Epoch 91/100\n",
            "4595/4595 [==============================] - 10s 2ms/step - loss: 4.4773e-04 - val_loss: 0.0024\n",
            "Epoch 92/100\n",
            "4595/4595 [==============================] - 10s 2ms/step - loss: 4.5735e-04 - val_loss: 0.0024\n",
            "Epoch 93/100\n",
            "  64/4595 [..............................] - ETA: 9s - loss: 2.7374e-04"
          ],
          "name": "stdout"
        },
        {
          "output_type": "stream",
          "text": [
            "4595/4595 [==============================] - 10s 2ms/step - loss: 4.5512e-04 - val_loss: 0.0024\n",
            "Epoch 94/100\n",
            "4595/4595 [==============================] - 10s 2ms/step - loss: 4.3345e-04 - val_loss: 0.0024\n",
            "Epoch 95/100\n",
            "4595/4595 [==============================] - 10s 2ms/step - loss: 4.3513e-04 - val_loss: 0.0024\n",
            "Epoch 96/100\n",
            "4595/4595 [==============================] - 10s 2ms/step - loss: 4.4495e-04 - val_loss: 0.0024\n",
            "Epoch 97/100\n",
            "4032/4595 [=========================>....] - ETA: 1s - loss: 4.3560e-04"
          ],
          "name": "stdout"
        },
        {
          "output_type": "stream",
          "text": [
            "4595/4595 [==============================] - 10s 2ms/step - loss: 4.3070e-04 - val_loss: 0.0024\n",
            "Epoch 98/100\n",
            "4595/4595 [==============================] - 10s 2ms/step - loss: 4.5618e-04 - val_loss: 0.0025\n",
            "Epoch 99/100\n",
            "4595/4595 [==============================] - 10s 2ms/step - loss: 4.4285e-04 - val_loss: 0.0024\n",
            "Epoch 100/100\n",
            "4595/4595 [==============================] - 10s 2ms/step - loss: 4.4246e-04 - val_loss: 0.0024\n"
          ],
          "name": "stdout"
        },
        {
          "output_type": "execute_result",
          "data": {
            "text/plain": [
              "<keras.callbacks.History at 0x7fce04464518>"
            ]
          },
          "metadata": {
            "tags": []
          },
          "execution_count": 31
        }
      ]
    },
    {
      "metadata": {
        "id": "zi0TOV0W2am7",
        "colab_type": "text"
      },
      "cell_type": "markdown",
      "source": [
        "Bước này là test data xem mình encode có ngáo không :D "
      ]
    },
    {
      "metadata": {
        "id": "4L7fLiZwXtSi",
        "colab_type": "code",
        "colab": {
          "autoexec": {
            "startup": false,
            "wait_interval": 0
          },
          "base_uri": "https://localhost:8080/",
          "height": 37
        },
        "outputId": "28d742f3-8abf-4628-8866-f01773bf6aba",
        "executionInfo": {
          "status": "ok",
          "timestamp": 1530805061258,
          "user_tz": -420,
          "elapsed": 1211,
          "user": {
            "displayName": "Linh Tran",
            "photoUrl": "https://lh3.googleusercontent.com/a/default-user=s128",
            "userId": "112132608669804924061"
          }
        }
      },
      "cell_type": "code",
      "source": [
        "import matplotlib.pyplot as plt"
      ],
      "execution_count": 32,
      "outputs": []
    },
    {
      "metadata": {
        "id": "5Gv58ZDI2buu",
        "colab_type": "code",
        "colab": {
          "autoexec": {
            "startup": false,
            "wait_interval": 0
          },
          "base_uri": "https://localhost:8080/",
          "height": 17
        },
        "outputId": "0fa3605e-74b8-46d4-d251-c5566d1484f1",
        "executionInfo": {
          "status": "ok",
          "timestamp": 1530805149076,
          "user_tz": -420,
          "elapsed": 21651,
          "user": {
            "displayName": "Linh Tran",
            "photoUrl": "https://lh3.googleusercontent.com/a/default-user=s128",
            "userId": "112132608669804924061"
          }
        }
      },
      "cell_type": "code",
      "source": [
        "test_model = load_model('drive/saved2.h5')\n",
        "\n",
        "def visualize_test(img, model):\n",
        "  pred = model.predict(np.expand_dims(img / 255.0, axis=0))[0]\n",
        "  pred = (pred * 255.0).astype(np.uint8)\n",
        "  \n",
        "  fig, ax = plt.subplots(2, 1)\n",
        "  ax[0].imshow(img)\n",
        "  ax[1].imshow(pred)\n",
        "  plt.show()"
      ],
      "execution_count": 36,
      "outputs": []
    },
    {
      "metadata": {
        "id": "Ksoh00HDsNc4",
        "colab_type": "code",
        "colab": {
          "autoexec": {
            "startup": false,
            "wait_interval": 0
          },
          "base_uri": "https://localhost:8080/",
          "height": 350
        },
        "outputId": "1e55ed07-136f-4bc3-c424-9ae41cc087bc",
        "executionInfo": {
          "status": "ok",
          "timestamp": 1530805217227,
          "user_tz": -420,
          "elapsed": 1020,
          "user": {
            "displayName": "Linh Tran",
            "photoUrl": "https://lh3.googleusercontent.com/a/default-user=s128",
            "userId": "112132608669804924061"
          }
        }
      },
      "cell_type": "code",
      "source": [
        "visualize_test(list_block[1465],test_model)"
      ],
      "execution_count": 39,
      "outputs": [
        {
          "output_type": "display_data",
          "data": {
            "image/png": "[encoded data removed]",
            "text/plain": [
              "<matplotlib.figure.Figure at 0x7fcd2d0dbb00>"
            ]
          },
          "metadata": {
            "tags": []
          }
        }
      ]
    },
    {
      "metadata": {
        "id": "Il4181-ZNP23",
        "colab_type": "text"
      },
      "cell_type": "markdown",
      "source": [
        "## Bước thứ 2.5: Bỏ đi decoder và chỉ lấy encoder\n",
        "\n",
        "Cuối cùng mình cũng được làm gì đó! Đây là phần code của Linh, với sự trợ giúp của anh Giang."
      ]
    },
    {
      "metadata": {
        "id": "CNUWfT_q64CL",
        "colab_type": "code",
        "colab": {
          "autoexec": {
            "startup": false,
            "wait_interval": 0
          },
          "base_uri": "https://localhost:8080/",
          "height": 655
        },
        "outputId": "9809bd6c-6bd1-489d-972b-69de1fd7e6c2",
        "executionInfo": {
          "status": "ok",
          "timestamp": 1530805965029,
          "user_tz": -420,
          "elapsed": 21320,
          "user": {
            "displayName": "Linh Tran",
            "photoUrl": "https://lh3.googleusercontent.com/a/default-user=s128",
            "userId": "112132608669804924061"
          }
        }
      },
      "cell_type": "code",
      "source": [
        "model = load_model('drive/saved2.h5')\n",
        "print(model.summary())\n",
        "input = model.get_layer('input_7')\n",
        "encoded = model.get_layer('encoded')"
      ],
      "execution_count": 46,
      "outputs": [
        {
          "output_type": "stream",
          "text": [
            "_________________________________________________________________\n",
            "Layer (type)                 Output Shape              Param #   \n",
            "=================================================================\n",
            "input_7 (InputLayer)         (None, 64, 64, 3)         0         \n",
            "_________________________________________________________________\n",
            "conv2d_37 (Conv2D)           (None, 64, 64, 256)       7168      \n",
            "_________________________________________________________________\n",
            "max_pooling2d_19 (MaxPooling (None, 32, 32, 256)       0         \n",
            "_________________________________________________________________\n",
            "conv2d_38 (Conv2D)           (None, 32, 32, 128)       295040    \n",
            "_________________________________________________________________\n",
            "max_pooling2d_20 (MaxPooling (None, 16, 16, 128)       0         \n",
            "_________________________________________________________________\n",
            "conv2d_39 (Conv2D)           (None, 16, 16, 64)        73792     \n",
            "_________________________________________________________________\n",
            "max_pooling2d_21 (MaxPooling (None, 8, 8, 64)          0         \n",
            "_________________________________________________________________\n",
            "encoded (Conv2D)             (None, 8, 8, 4)           2308      \n",
            "_________________________________________________________________\n",
            "conv2d_40 (Conv2D)           (None, 8, 8, 64)          2368      \n",
            "_________________________________________________________________\n",
            "up_sampling2d_19 (UpSampling (None, 16, 16, 64)        0         \n",
            "_________________________________________________________________\n",
            "conv2d_41 (Conv2D)           (None, 16, 16, 128)       73856     \n",
            "_________________________________________________________________\n",
            "up_sampling2d_20 (UpSampling (None, 32, 32, 128)       0         \n",
            "_________________________________________________________________\n",
            "conv2d_42 (Conv2D)           (None, 32, 32, 256)       295168    \n",
            "_________________________________________________________________\n",
            "up_sampling2d_21 (UpSampling (None, 64, 64, 256)       0         \n",
            "_________________________________________________________________\n",
            "decoded (Conv2D)             (None, 64, 64, 3)         6915      \n",
            "=================================================================\n",
            "Total params: 756,615\n",
            "Trainable params: 152,324\n",
            "Non-trainable params: 604,291\n",
            "_________________________________________________________________\n",
            "None\n"
          ],
          "name": "stdout"
        }
      ]
    },
    {
      "metadata": {
        "id": "GIAxlDsF-9m7",
        "colab_type": "code",
        "colab": {
          "autoexec": {
            "startup": false,
            "wait_interval": 0
          },
          "base_uri": "https://localhost:8080/",
          "height": 17
        },
        "outputId": "d787dea4-fbd0-49dc-f72e-330de213cf1d",
        "executionInfo": {
          "status": "ok",
          "timestamp": 1530806351206,
          "user_tz": -420,
          "elapsed": 819,
          "user": {
            "displayName": "Linh Tran",
            "photoUrl": "https://lh3.googleusercontent.com/a/default-user=s128",
            "userId": "112132608669804924061"
          }
        }
      },
      "cell_type": "code",
      "source": [
        "model = Model(input.input, encoded.output)\n",
        "\n",
        "filepath_encoded = 'drive/Save_data/encoded.h5'\n",
        "model.save(filepath_encoded)"
      ],
      "execution_count": 49,
      "outputs": []
    },
    {
      "metadata": {
        "id": "qX3x7wKYLtlR",
        "colab_type": "text"
      },
      "cell_type": "markdown",
      "source": [
        "Sau đó thì tạo hàm để encode ra một đống code cho dataset. Đây là bước trước bước bag of words."
      ]
    },
    {
      "metadata": {
        "id": "uoXaXa-ISYUq",
        "colab_type": "code",
        "colab": {
          "autoexec": {
            "startup": false,
            "wait_interval": 0
          }
        }
      },
      "cell_type": "code",
      "source": [
        "# because Chinh's resize def has gone wrong, i put mine in \n",
        "\n",
        "def size(path, block_height, block_width):\n",
        "  img = cv2.imread(path)\n",
        "  img = cv2.resize(img, (int(img.shape[1]/block_width + 1)*block_width, int(img.shape[0]/block_height + 1)*block_height))\n",
        "  return img"
      ],
      "execution_count": 0,
      "outputs": []
    },
    {
      "metadata": {
        "id": "AtC06wNybm42",
        "colab_type": "code",
        "colab": {
          "autoexec": {
            "startup": false,
            "wait_interval": 0
          }
        }
      },
      "cell_type": "code",
      "source": [
        "def blockdv(img, block_width, block_height):\n",
        "  blocks=[]\n",
        "  for i in range(int(img.shape[0]/block_height)):\n",
        "    for j in range(int(img.shape[1]/block_width)):\n",
        "      block = img[i*block_height:i*block_height + block_height, j*block_width:j*block_width + block_width]\n",
        "      blocks.append(block)\n",
        "  blocks = np.array(list_block)\n",
        "  return blocks"
      ],
      "execution_count": 0,
      "outputs": []
    },
    {
      "metadata": {
        "id": "EhoLo6z8Nb-2",
        "colab_type": "code",
        "colab": {
          "autoexec": {
            "startup": false,
            "wait_interval": 0
          }
        }
      },
      "cell_type": "code",
      "source": [
        "def imgtocode(path, model_working, block_width, block_height):\n",
        "  print(path)\n",
        "  img = size(path, block_width, block_height)\n",
        "  print(img.shape)\n",
        "  block = blockdv(img, block_width, block_height)\n",
        "  print(block.shape)\n",
        "  model = model_working\n",
        "  return model.predict(block)"
      ],
      "execution_count": 0,
      "outputs": []
    },
    {
      "metadata": {
        "id": "_LhBTLlgYAEo",
        "colab_type": "text"
      },
      "cell_type": "markdown",
      "source": [
        "Xin lỗi ạ đây là phần test cái code trên "
      ]
    },
    {
      "metadata": {
        "id": "x92xyX9eL22I",
        "colab_type": "code",
        "colab": {
          "autoexec": {
            "startup": false,
            "wait_interval": 0
          },
          "base_uri": "https://localhost:8080/",
          "height": 268
        },
        "outputId": "38428ff0-1f68-4921-ea40-416ebf3fae0f",
        "executionInfo": {
          "status": "error",
          "timestamp": 1530812843346,
          "user_tz": -420,
          "elapsed": 1875,
          "user": {
            "displayName": "Long Bui",
            "photoUrl": "//lh4.googleusercontent.com/-hesOxoxnxuc/AAAAAAAAAAI/AAAAAAAAAGU/q0W0PyWRsuU/s50-c-k-no/photo.jpg",
            "userId": "111436333157392689979"
          }
        }
      },
      "cell_type": "code",
      "source": [
        "filepath_test = 'drive/GGLandmark/test data/'\n",
        "print(os.listdir(filepath_test))\n",
        "\n",
        "for file in os.listdir(filepath_test):\n",
        "  code = imgtocode(filepath_test + file, model, 64, 64)\n",
        "  #list_code = np.array(list_code)\n",
        "  print(code.shape)"
      ],
      "execution_count": 21,
      "outputs": [
        {
          "output_type": "stream",
          "text": [
            "['339dfb46e4b2ff72.jpg', '3227cb2418122f20.jpg', 'f51ebe0ed44073f2.jpg', 'cb7e79a10e838d3b.jpg', '94bbe513de6ec272.jpg', '914005001af1f725.jpg', '3143f49f0b3b9310.jpg', '576b29445ebf8545.jpg', '64641fb426add28f.jpg', 'db84addaee671647.jpg', '4213700cbe4eb748.jpg', '95fb5e7e041459e8.jpg', '350ed2bd676bff59.jpg', 'c6265aba551291c7.jpg', 'e6c50a7999963663.jpg', '175736b32ea37e9c.jpg', '80b662ef299816d2.jpg', 'f497640b830c4cab.jpg', '051be7a51fef53d1.jpg', 'c01939fd373d2cd9.jpg', '4841acaff389f1ed.jpg', 'e62141eabe1b4712.jpg', '304a404a62c7430b.jpg', 'cf6c71122667a9dc.jpg', 'e0bc4c41973f2ef6.jpg', '24a0b82ab66b6958.jpg', '6fe6af24a08446cb.jpg', '2e7181dcc6bbc6fa.jpg']\n"
          ],
          "name": "stdout"
        },
        {
          "output_type": "error",
          "ename": "NameError",
          "evalue": "ignored",
          "traceback": [
            "\u001b[0;31m---------------------------------------------------------------------------\u001b[0m",
            "\u001b[0;31mNameError\u001b[0m                                 Traceback (most recent call last)",
            "\u001b[0;32m<ipython-input-21-e8b3baee2bb8>\u001b[0m in \u001b[0;36m<module>\u001b[0;34m()\u001b[0m\n\u001b[1;32m      3\u001b[0m \u001b[0;34m\u001b[0m\u001b[0m\n\u001b[1;32m      4\u001b[0m \u001b[0;32mfor\u001b[0m \u001b[0mfile\u001b[0m \u001b[0;32min\u001b[0m \u001b[0mos\u001b[0m\u001b[0;34m.\u001b[0m\u001b[0mlistdir\u001b[0m\u001b[0;34m(\u001b[0m\u001b[0mfilepath_test\u001b[0m\u001b[0;34m)\u001b[0m\u001b[0;34m:\u001b[0m\u001b[0;34m\u001b[0m\u001b[0m\n\u001b[0;32m----> 5\u001b[0;31m   \u001b[0mcode\u001b[0m \u001b[0;34m=\u001b[0m \u001b[0mimgtocode\u001b[0m\u001b[0;34m(\u001b[0m\u001b[0mfilepath_test\u001b[0m \u001b[0;34m+\u001b[0m \u001b[0mfile\u001b[0m\u001b[0;34m,\u001b[0m \u001b[0mmodel\u001b[0m\u001b[0;34m,\u001b[0m \u001b[0;36m64\u001b[0m\u001b[0;34m,\u001b[0m \u001b[0;36m64\u001b[0m\u001b[0;34m)\u001b[0m\u001b[0;34m\u001b[0m\u001b[0m\n\u001b[0m\u001b[1;32m      6\u001b[0m   \u001b[0;31m#list_code = np.array(list_code)\u001b[0m\u001b[0;34m\u001b[0m\u001b[0;34m\u001b[0m\u001b[0m\n\u001b[1;32m      7\u001b[0m   \u001b[0mprint\u001b[0m\u001b[0;34m(\u001b[0m\u001b[0mcode\u001b[0m\u001b[0;34m.\u001b[0m\u001b[0mshape\u001b[0m\u001b[0;34m)\u001b[0m\u001b[0;34m\u001b[0m\u001b[0m\n",
            "\u001b[0;31mNameError\u001b[0m: name 'model' is not defined"
          ]
        }
      ]
    },
    {
      "metadata": {
        "id": "K4YU53oofPGL",
        "colab_type": "code",
        "colab": {
          "autoexec": {
            "startup": false,
            "wait_interval": 0
          }
        }
      },
      "cell_type": "code",
      "source": [
        ""
      ],
      "execution_count": 0,
      "outputs": []
    }
  ]
}